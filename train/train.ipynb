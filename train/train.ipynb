{
  "cells": [
    {
      "cell_type": "markdown",
      "metadata": {
        "id": "cHBC0sOFOVnx"
      },
      "source": [
        "# Setup Workplace"
      ]
    },
    {
      "cell_type": "markdown",
      "source": [
        "## Import libraries"
      ],
      "metadata": {
        "id": "o70sxubGrrLB"
      }
    },
    {
      "cell_type": "code",
      "source": [
        "import wandb\n",
        "import os\n",
        "import sys"
      ],
      "metadata": {
        "id": "smgyz6TarpnS"
      },
      "execution_count": null,
      "outputs": []
    },
    {
      "cell_type": "markdown",
      "metadata": {
        "id": "nmFCPTQDOVn3"
      },
      "source": [
        "## Resolve issues"
      ]
    },
    {
      "cell_type": "code",
      "execution_count": null,
      "metadata": {
        "id": "pmK3rC9YOVn4"
      },
      "outputs": [],
      "source": [
        "# Colab\n",
        "\n",
        "## Resolve version\n",
        "\n",
        "!pip install --upgrade pip\n",
        "!pip install jedi==0.17.2\n",
        "\n",
        "## Resolve missing lib\n",
        "\n",
        "# !apt-get install -y libnvinfer-dev=8.4.3-1+cuda11.6 libnvinfer-plugin-dev=8.4.3-1+cuda11.6 libnvparsers-dev=8.4.3-1+cuda11.6 libnvonnxparsers-dev=8.4.3-1+cuda11.6 python3-libnvinfer-dev=8.4.3-1+cuda11.6 libnvinfer8=8.4.3-1+cuda11.6 libnvinfer-plugin8=8.4.3-1+cuda11.6 libnvparsers8=8.4.3-1+cuda11.6 libnvonnxparsers8=8.4.3-1+cuda11.6 python3-libnvinfer=8.4.3-1+cuda11.6\n",
        "# !ln -s /usr/lib/x86_64-linux-gnu/libnvinfer.so.8.4.3 /usr/lib64-nvidia/libnvinfer.so.7\n",
        "# !ln -s /usr/lib/x86_64-linux-gnu/libnvinfer_plugin.so.8.4.3 /usr/lib64-nvidia/libnvinfer_plugin.so.7\n",
        "\n",
        "# !apt-get install -y libnvinfer-dev=8.5.3-1+cuda11.8 libnvinfer-plugin-dev=8.5.3-1+cuda11.8 libnvparsers-dev=8.5.3-1+cuda11.8 libnvonnxparsers-dev=8.5.3-1+cuda11.8 python3-libnvinfer-dev=8.5.3-1+cuda11.8 libnvinfer8=8.5.3-1+cuda11.8 libnvinfer-plugin8=8.5.3-1+cuda11.8 libnvparsers8=8.5.3-1+cuda11.8 libnvonnxparsers8=8.5.3-1+cuda11.8 python3-libnvinfer=8.5.3-1+cuda11.8\n",
        "# !ln -s /usr/lib/x86_64-linux-gnu/libnvinfer.so.8.5.3-1 /usr/lib64-nvidia/libnvinfer.so.7\n",
        "# !ln -s /usr/lib/x86_64-linux-gnu/libnvinfer_plugin.so.8.5.3-1 /usr/lib64-nvidia/libnvinfer_plugin.so.7\n",
        "\n",
        "!apt-get install -y libnvinfer-dev=8.1.1.33-1+cuda11.2 libnvinfer-plugin-dev=8.1.1.33-1+cuda11.2 libnvparsers-dev=8.1.1.33-1+cuda11.2 libnvonnxparsers-dev=8.1.1.33-1+cuda11.2 python3-libnvinfer-dev=8.1.1.33-1+cuda11.2 libnvinfer8=8.1.1.33-1+cuda11.2 libnvinfer-plugin8=8.1.1.33-1+cuda11.2 libnvparsers8=8.1.1.33-1+cuda11.2 libnvonnxparsers8=8.1.1.33-1+cuda11.2 python3-libnvinfer=8.1.1.33-1+cuda11.2\n",
        "!ln -s /usr/lib/x86_64-linux-gnu/libnvinfer.so.8.1.1.33-1 /usr/lib64-nvidia/libnvinfer.so.8\n",
        "!ln -s /usr/lib/x86_64-linux-gnu/libnvinfer_plugin.so.8.1.1.33-1 /usr/lib64-nvidia/libnvinfer_plugin.so.8\n",
        "\n",
        "## Resolve memory management\n",
        "\n",
        "os.environ[\"XLA_PYTHON_CLIENT_PREALLOCATE\"]=\"true\"\n",
        "os.environ[\"XLA_PYTHON_CLIENT_MEM_FRACTION\"]=\".40\"\n",
        "os.environ[\"XLA_PYTHON_CLIENT_ALLOCATOR\"]=\"platform\"\n",
        "\n",
        "# Gradient\n",
        "\n",
        "\n",
        "\n",
        "# Kaggle\n",
        "\n",
        "## Resolve \n",
        "\n",
        "# !conda install -c conda-forge ncurses -y\n",
        "# !conda update -n base -c conda-forge conda -y\n",
        "# !conda install -c anaconda importlib-metadata -y\n",
        "\n",
        "# !pip install importlib-metadata\n",
        "# !pip install jsonschema==3.0.2"
      ]
    },
    {
      "cell_type": "markdown",
      "metadata": {
        "id": "J_bHRet4OVn7"
      },
      "source": [
        "## Install libraries"
      ]
    },
    {
      "cell_type": "code",
      "execution_count": null,
      "metadata": {
        "id": "aUXj8bAQOVn8"
      },
      "outputs": [],
      "source": [
        "# Main libraries\n",
        "\n",
        "!pip install datasets[streaming]\n",
        "!pip install --upgrade jax jaxlib\n",
        "!pip install flax\n",
        "!pip install transformers\n",
        "!pip install wandb\n",
        "!pip install einops\n",
        "!pip install emoji\n",
        "!pip install ftfy\n",
        "!pip install unidecode\n",
        "!pip install braceexpand\n",
        "!pip install tensorflow\n",
        "\n",
        "# Jax and jaxlib according to each CUDA and CuDNN version\n",
        "\n",
        "## Colab\n",
        "\n",
        "!pip install -U jax[cuda11_cudnn87] -f https://storage.googleapis.com/jax-releases/jax_cuda_releases.html\n",
        "!pip install -U jaxlib>=0.4.2+cuda11.cudnn87 -f https://storage.googleapis.com/jax-releases/jax_cuda_releases.html\n",
        "\n",
        "## Gradient\n",
        "\n",
        "# !pip install -U jax[cuda11_cudnn84] -f https://storage.googleapis.com/jax-releases/jax_cuda_releases.html\n",
        "# !pip install -U jaxlib>=0.4.2+cuda11.cudnn84 -f https://storage.googleapis.com/jax-releases/jax_cuda_releases.html\n",
        "\n",
        "## Kaggle\n",
        "\n",
        "# pip install -U jax[cuda11_cudnn82] -f https://storage.googleapis.com/jax-releases/jax_cuda_releases.html\n",
        "# !pip install -U jaxlib>=0.4.2+cuda11.cudnn82 -f https://storage.googleapis.com/jax-releases/jax_cuda_releases.html"
      ]
    },
    {
      "cell_type": "markdown",
      "metadata": {
        "id": "VeZAHEG4psjD"
      },
      "source": [
        "## Get files"
      ]
    },
    {
      "cell_type": "code",
      "execution_count": null,
      "metadata": {
        "id": "Oyi9I1qwzEn5"
      },
      "outputs": [],
      "source": [
        "username = \"fedorajuandy\"\n",
        "reponame = \"tugas-akhir\"\n",
        "\n",
        "# Colab\n",
        "\n",
        "from google.colab import drive\n",
        "drive.mount('/content/drive')\n",
        "\n",
        "!unzip \"/content/drive/MyDrive/Colab Notebooks/dalle-mini/tools/dataset/encoded_data_512.zip\"\n",
        "\n",
        "with open('/content/drive/MyDrive/Colab Notebooks/github_personal_access_token.txt') as gpat:\n",
        "    github_personal_access_token = gpat.readline()\n",
        "\n",
        "url = f\"https://{github_personal_access_token}@github.com/{username}/{reponame}.git\"\n",
        "get_ipython().system(f\"git clone {url}\")\n",
        "\n",
        "# Kaggle\n",
        "\n",
        "## Google Drive\n",
        "\n",
        "# !conda install -y gdown\n",
        "# !gdown --id 1st1i-Zp6VwIE7mLaUEBneM794anwH9b9\n",
        "# !unzip /kaggle/working/train.zip\n",
        "\n",
        "## GitHub\n",
        "\n",
        "# user_secrets = UserSecretsClient()\n",
        "# github_personal_access_token = user_secrets.get_secret(\"github\")\n",
        "# url = f\"https://{github_personal_access_token}@github.com/{username}/{reponame}.git\"\\\n",
        "\n",
        "# get_ipython().system(f\"git clone {url}\")\n",
        "# sys.path.append(\"tugas-akhir\")\n",
        "# import tugas-akhir"
      ]
    },
    {
      "cell_type": "markdown",
      "metadata": {
        "id": "UV6qZUdGOVn9"
      },
      "source": [
        "## WANDB"
      ]
    },
    {
      "cell_type": "code",
      "execution_count": null,
      "metadata": {
        "id": "i_3foDHXOVn-"
      },
      "outputs": [],
      "source": [
        "os.environ[\"WANDB_NOTEBOOK_NAME\"] = \"/content/drive/MyDrive/Colab Notebooks/dalle-mini/tools/train/train.ipynb\"\n",
        "\n",
        "# Colab\n",
        "\n",
        "with open('/content/drive/MyDrive/Colab Notebooks/wandb_auth_key.txt') as wak:\n",
        "    wandb_auth_key = wak.readline()\n",
        "\n",
        "# Gradient\n",
        "\n",
        "# wandb_auth_key = paperspace_secrets.get_secret(\"wandb\")\n",
        "\n",
        "# Kaggle\n",
        "\n",
        "# wandb_auth_key = user_secrets.get_secret(\"wandb\")\n",
        "\n",
        "# All\n",
        "\n",
        "wandb.login(key=wandb_auth_key)"
      ]
    },
    {
      "cell_type": "markdown",
      "metadata": {
        "id": "hwARWPtWcHbd"
      },
      "source": [
        "# Check Specification"
      ]
    },
    {
      "cell_type": "markdown",
      "metadata": {
        "id": "id7KelBWOVn_"
      },
      "source": [
        "## Check general hardware"
      ]
    },
    {
      "cell_type": "code",
      "execution_count": null,
      "metadata": {
        "colab": {
          "base_uri": "https://localhost:8080/"
        },
        "id": "qLbTyB4Sas7C",
        "outputId": "2ad70cfa-4fed-49c9-d71d-86b5df7662de"
      },
      "outputs": [
        {
          "output_type": "stream",
          "name": "stdout",
          "text": [
            "NAME=\"Ubuntu\"\n",
            "VERSION=\"20.04.5 LTS (Focal Fossa)\"\n",
            "ID=ubuntu\n",
            "ID_LIKE=debian\n",
            "PRETTY_NAME=\"Ubuntu 20.04.5 LTS\"\n",
            "VERSION_ID=\"20.04\"\n",
            "HOME_URL=\"https://www.ubuntu.com/\"\n",
            "SUPPORT_URL=\"https://help.ubuntu.com/\"\n",
            "BUG_REPORT_URL=\"https://bugs.launchpad.net/ubuntu/\"\n",
            "PRIVACY_POLICY_URL=\"https://www.ubuntu.com/legal/terms-and-policies/privacy-policy\"\n",
            "VERSION_CODENAME=focal\n",
            "UBUNTU_CODENAME=focal\n"
          ]
        }
      ],
      "source": [
        "# Check OS\n",
        "\n",
        "!cat /etc/os-release"
      ]
    },
    {
      "cell_type": "code",
      "execution_count": null,
      "metadata": {
        "colab": {
          "base_uri": "https://localhost:8080/"
        },
        "id": "0u0tyIvCbcKh",
        "outputId": "74f131aa-c7ff-41eb-c5b7-cffa4d55aaf1"
      },
      "outputs": [
        {
          "output_type": "stream",
          "name": "stdout",
          "text": [
            "x86_64\n"
          ]
        }
      ],
      "source": [
        "# Check machine\n",
        "\n",
        "!uname -m"
      ]
    },
    {
      "cell_type": "code",
      "execution_count": null,
      "metadata": {
        "colab": {
          "base_uri": "https://localhost:8080/"
        },
        "id": "jkmw6skuydxi",
        "outputId": "898fcf5f-b52d-4f19-b690-1f3958594068"
      },
      "outputs": [
        {
          "output_type": "stream",
          "name": "stdout",
          "text": [
            "processor\t: 0\n",
            "vendor_id\t: GenuineIntel\n",
            "cpu family\t: 6\n",
            "model\t\t: 79\n",
            "model name\t: Intel(R) Xeon(R) CPU @ 2.20GHz\n",
            "stepping\t: 0\n",
            "microcode\t: 0xffffffff\n",
            "cpu MHz\t\t: 2199.998\n",
            "cache size\t: 56320 KB\n",
            "physical id\t: 0\n",
            "siblings\t: 2\n",
            "core id\t\t: 0\n",
            "cpu cores\t: 1\n",
            "apicid\t\t: 0\n",
            "initial apicid\t: 0\n",
            "fpu\t\t: yes\n",
            "fpu_exception\t: yes\n",
            "cpuid level\t: 13\n",
            "wp\t\t: yes\n",
            "flags\t\t: fpu vme de pse tsc msr pae mce cx8 apic sep mtrr pge mca cmov pat pse36 clflush mmx fxsr sse sse2 ss ht syscall nx pdpe1gb rdtscp lm constant_tsc rep_good nopl xtopology nonstop_tsc cpuid tsc_known_freq pni pclmulqdq ssse3 fma cx16 pcid sse4_1 sse4_2 x2apic movbe popcnt aes xsave avx f16c rdrand hypervisor lahf_lm abm 3dnowprefetch invpcid_single ssbd ibrs ibpb stibp fsgsbase tsc_adjust bmi1 hle avx2 smep bmi2 erms invpcid rtm rdseed adx smap xsaveopt arat md_clear arch_capabilities\n",
            "bugs\t\t: cpu_meltdown spectre_v1 spectre_v2 spec_store_bypass l1tf mds swapgs taa mmio_stale_data retbleed\n",
            "bogomips\t: 4399.99\n",
            "clflush size\t: 64\n",
            "cache_alignment\t: 64\n",
            "address sizes\t: 46 bits physical, 48 bits virtual\n",
            "power management:\n",
            "\n",
            "processor\t: 1\n",
            "vendor_id\t: GenuineIntel\n",
            "cpu family\t: 6\n",
            "model\t\t: 79\n",
            "model name\t: Intel(R) Xeon(R) CPU @ 2.20GHz\n",
            "stepping\t: 0\n",
            "microcode\t: 0xffffffff\n",
            "cpu MHz\t\t: 2199.998\n",
            "cache size\t: 56320 KB\n",
            "physical id\t: 0\n",
            "siblings\t: 2\n",
            "core id\t\t: 0\n",
            "cpu cores\t: 1\n",
            "apicid\t\t: 1\n",
            "initial apicid\t: 1\n",
            "fpu\t\t: yes\n",
            "fpu_exception\t: yes\n",
            "cpuid level\t: 13\n",
            "wp\t\t: yes\n",
            "flags\t\t: fpu vme de pse tsc msr pae mce cx8 apic sep mtrr pge mca cmov pat pse36 clflush mmx fxsr sse sse2 ss ht syscall nx pdpe1gb rdtscp lm constant_tsc rep_good nopl xtopology nonstop_tsc cpuid tsc_known_freq pni pclmulqdq ssse3 fma cx16 pcid sse4_1 sse4_2 x2apic movbe popcnt aes xsave avx f16c rdrand hypervisor lahf_lm abm 3dnowprefetch invpcid_single ssbd ibrs ibpb stibp fsgsbase tsc_adjust bmi1 hle avx2 smep bmi2 erms invpcid rtm rdseed adx smap xsaveopt arat md_clear arch_capabilities\n",
            "bugs\t\t: cpu_meltdown spectre_v1 spectre_v2 spec_store_bypass l1tf mds swapgs taa mmio_stale_data retbleed\n",
            "bogomips\t: 4399.99\n",
            "clflush size\t: 64\n",
            "cache_alignment\t: 64\n",
            "address sizes\t: 46 bits physical, 48 bits virtual\n",
            "power management:\n",
            "\n"
          ]
        }
      ],
      "source": [
        "# Check processor\n",
        "\n",
        "!cat /proc/cpuinfo"
      ]
    },
    {
      "cell_type": "code",
      "execution_count": null,
      "metadata": {
        "colab": {
          "base_uri": "https://localhost:8080/"
        },
        "id": "tQsxV_RxyeGK",
        "outputId": "227a4db6-d4a1-4596-ba2a-1b70a5a79d72"
      },
      "outputs": [
        {
          "output_type": "stream",
          "name": "stdout",
          "text": [
            "MemTotal:       13297200 kB\n",
            "MemFree:          628868 kB\n",
            "MemAvailable:   12028324 kB\n",
            "Buffers:          356220 kB\n",
            "Cached:         10963684 kB\n",
            "SwapCached:            0 kB\n",
            "Active:           871888 kB\n",
            "Inactive:       11230548 kB\n",
            "Active(anon):       3284 kB\n",
            "Inactive(anon):   756260 kB\n",
            "Active(file):     868604 kB\n",
            "Inactive(file): 10474288 kB\n",
            "Unevictable:           0 kB\n",
            "Mlocked:               0 kB\n",
            "SwapTotal:             0 kB\n",
            "SwapFree:              0 kB\n",
            "Dirty:              6996 kB\n",
            "Writeback:             0 kB\n",
            "AnonPages:        782460 kB\n",
            "Mapped:           300012 kB\n",
            "Shmem:              3896 kB\n",
            "KReclaimable:     382488 kB\n",
            "Slab:             425904 kB\n",
            "SReclaimable:     382488 kB\n",
            "SUnreclaim:        43416 kB\n",
            "KernelStack:        5520 kB\n",
            "PageTables:        12788 kB\n",
            "NFS_Unstable:          0 kB\n",
            "Bounce:                0 kB\n",
            "WritebackTmp:          0 kB\n",
            "CommitLimit:     6648600 kB\n",
            "Committed_AS:    3300144 kB\n",
            "VmallocTotal:   34359738367 kB\n",
            "VmallocUsed:       73992 kB\n",
            "VmallocChunk:          0 kB\n",
            "Percpu:             1344 kB\n",
            "HardwareCorrupted:     0 kB\n",
            "AnonHugePages:         0 kB\n",
            "ShmemHugePages:        0 kB\n",
            "ShmemPmdMapped:        0 kB\n",
            "FileHugePages:         0 kB\n",
            "FilePmdMapped:         0 kB\n",
            "CmaTotal:              0 kB\n",
            "CmaFree:               0 kB\n",
            "HugePages_Total:       0\n",
            "HugePages_Free:        0\n",
            "HugePages_Rsvd:        0\n",
            "HugePages_Surp:        0\n",
            "Hugepagesize:       2048 kB\n",
            "Hugetlb:               0 kB\n",
            "DirectMap4k:      160576 kB\n",
            "DirectMap2M:     4030464 kB\n",
            "DirectMap1G:    11534336 kB\n"
          ]
        }
      ],
      "source": [
        "# Check memory\n",
        "\n",
        "!cat /proc/meminfo"
      ]
    },
    {
      "cell_type": "code",
      "execution_count": null,
      "metadata": {
        "colab": {
          "base_uri": "https://localhost:8080/"
        },
        "id": "s007OJATs-xE",
        "outputId": "6c1f5458-631d-4db1-9330-c126a2782d62"
      },
      "outputs": [
        {
          "output_type": "stream",
          "name": "stdout",
          "text": [
            "SHELL=/bin/bash\n",
            "NV_LIBCUBLAS_VERSION=11.11.3.6-1\n",
            "NVIDIA_VISIBLE_DEVICES=all\n",
            "COLAB_JUPYTER_TRANSPORT=ipc\n",
            "__EGL_VENDOR_LIBRARY_DIRS=/usr/lib64-nvidia:/usr/share/glvnd/egl_vendor.d/\n",
            "NV_NVML_DEV_VERSION=11.8.86-1\n",
            "NV_CUDNN_PACKAGE_NAME=libcudnn8\n",
            "CGROUP_MEMORY_EVENTS=/sys/fs/cgroup/memory.events /var/colab/cgroup/jupyter-children/memory.events\n",
            "NV_LIBNCCL_DEV_PACKAGE=libnccl-dev=2.16.2-1+cuda11.8\n",
            "NV_LIBNCCL_DEV_PACKAGE_VERSION=2.16.2-1\n",
            "VM_GCE_METADATA_HOST=169.254.169.253\n",
            "HOSTNAME=83e6e282a91c\n",
            "XLA_PYTHON_CLIENT_MEM_FRACTION=.40\n",
            "TBE_RUNTIME_ADDR=172.28.0.1:8011\n",
            "GCE_METADATA_TIMEOUT=3\n",
            "NVIDIA_REQUIRE_CUDA=cuda>=11.8 brand=tesla,driver>=450,driver<451 brand=tesla,driver>=470,driver<471 brand=unknown,driver>=470,driver<471 brand=nvidia,driver>=470,driver<471 brand=nvidiartx,driver>=470,driver<471 brand=geforce,driver>=470,driver<471 brand=geforcertx,driver>=470,driver<471 brand=quadro,driver>=470,driver<471 brand=quadrortx,driver>=470,driver<471 brand=titan,driver>=470,driver<471 brand=titanrtx,driver>=470,driver<471 brand=tesla,driver>=510,driver<511 brand=unknown,driver>=510,driver<511 brand=nvidia,driver>=510,driver<511 brand=nvidiartx,driver>=510,driver<511 brand=geforce,driver>=510,driver<511 brand=geforcertx,driver>=510,driver<511 brand=quadro,driver>=510,driver<511 brand=quadrortx,driver>=510,driver<511 brand=titan,driver>=510,driver<511 brand=titanrtx,driver>=510,driver<511 brand=tesla,driver>=515,driver<516 brand=unknown,driver>=515,driver<516 brand=nvidia,driver>=515,driver<516 brand=nvidiartx,driver>=515,driver<516 brand=geforce,driver>=515,driver<516 brand=geforcertx,driver>=515,driver<516 brand=quadro,driver>=515,driver<516 brand=quadrortx,driver>=515,driver<516 brand=titan,driver>=515,driver<516 brand=titanrtx,driver>=515,driver<516\n",
            "NV_LIBCUBLAS_DEV_PACKAGE=libcublas-dev-11-8=11.11.3.6-1\n",
            "NV_NVTX_VERSION=11.8.86-1\n",
            "COLAB_JUPYTER_IP=172.28.0.12\n",
            "NV_CUDA_CUDART_DEV_VERSION=11.8.89-1\n",
            "NV_LIBCUSPARSE_VERSION=11.7.5.86-1\n",
            "NV_LIBNPP_VERSION=11.8.0.86-1\n",
            "NCCL_VERSION=2.16.2-1\n",
            "KMP_LISTEN_PORT=6000\n",
            "TF_FORCE_GPU_ALLOW_GROWTH=true\n",
            "ENV=/root/.bashrc\n",
            "PWD=/content\n",
            "TBE_EPHEM_CREDS_ADDR=172.28.0.1:8009\n",
            "TBE_CREDS_ADDR=172.28.0.1:8008\n",
            "NV_CUDNN_PACKAGE=libcudnn8=8.7.0.84-1+cuda11.8\n",
            "NVIDIA_DRIVER_CAPABILITIES=compute,utility\n",
            "LAST_FORCED_REBUILD=20230321\n",
            "NV_NVPROF_DEV_PACKAGE=cuda-nvprof-11-8=11.8.87-1\n",
            "NV_LIBNPP_PACKAGE=libnpp-11-8=11.8.0.86-1\n",
            "NV_LIBNCCL_DEV_PACKAGE_NAME=libnccl-dev\n",
            "TCLLIBPATH=/usr/share/tcltk/tcllib1.20\n",
            "NV_LIBCUBLAS_DEV_VERSION=11.11.3.6-1\n",
            "COLAB_KERNEL_MANAGER_PROXY_HOST=172.28.0.12\n",
            "NVIDIA_PRODUCT_NAME=CUDA\n",
            "XLA_PYTHON_CLIENT_PREALLOCATE=true\n",
            "NV_LIBCUBLAS_DEV_PACKAGE_NAME=libcublas-dev-11-8\n",
            "USE_AUTH_EPHEM=1\n",
            "NV_CUDA_CUDART_VERSION=11.8.89-1\n",
            "HOME=/root\n",
            "LANG=en_US.UTF-8\n",
            "CUDA_VERSION=11.8.0\n",
            "CLOUDSDK_CONFIG=/content/.config\n",
            "NV_LIBCUBLAS_PACKAGE=libcublas-11-8=11.11.3.6-1\n",
            "COLAB_RELEASE_TAG=release-colab-20230328-060212-RC00\n",
            "PYDEVD_USE_FRAME_EVAL=NO\n",
            "KMP_TARGET_PORT=9000\n",
            "CLICOLOR=1\n",
            "KMP_EXTRA_ARGS=--listen_host=172.28.0.12 --target_host=172.28.0.12 --tunnel_background_save_url=https://colab.research.google.com/tun/m/cc48301118ce562b961b3c22d803539adc1e0c19/gpu-t4-s-uhbkl7ok9yme --tunnel_background_save_delay=10s --tunnel_periodic_background_save_frequency=30m0s --enable_output_coalescing=true --output_coalescing_required=true\n",
            "NV_LIBNPP_DEV_PACKAGE=libnpp-dev-11-8=11.8.0.86-1\n",
            "NV_LIBCUBLAS_PACKAGE_NAME=libcublas-11-8\n",
            "COLAB_KERNEL_MANAGER_PROXY_PORT=6000\n",
            "CLOUDSDK_PYTHON=python3\n",
            "NV_LIBNPP_DEV_VERSION=11.8.0.86-1\n",
            "ENABLE_DIRECTORYPREFETCHER=1\n",
            "NO_GCE_CHECK=False\n",
            "JPY_PARENT_PID=91\n",
            "PYTHONPATH=/env/python\n",
            "TERM=xterm-color\n",
            "SETUPTOOLS_USE_DISTUTILS=stdlib\n",
            "NV_LIBCUSPARSE_DEV_VERSION=11.7.5.86-1\n",
            "GIT_PAGER=cat\n",
            "LIBRARY_PATH=/usr/local/cuda/lib64/stubs\n",
            "NV_CUDNN_VERSION=8.7.0.84\n",
            "XLA_PYTHON_CLIENT_ALLOCATOR=platform\n",
            "SHLVL=0\n",
            "PAGER=cat\n",
            "NV_CUDA_LIB_VERSION=11.8.0-1\n",
            "NVARCH=x86_64\n",
            "NV_CUDNN_PACKAGE_DEV=libcudnn8-dev=8.7.0.84-1+cuda11.8\n",
            "NV_CUDA_COMPAT_PACKAGE=cuda-compat-11-8\n",
            "WANDB_NOTEBOOK_NAME=/content/drive/MyDrive/Colab Notebooks/dalle-mini/tools/train/train.ipynb\n",
            "MPLBACKEND=module://ipykernel.pylab.backend_inline\n",
            "NV_LIBNCCL_PACKAGE=libnccl2=2.16.2-1+cuda11.8\n",
            "LD_LIBRARY_PATH=/usr/lib64-nvidia\n",
            "COLAB_GPU=1\n",
            "GCS_READ_CACHE_BLOCK_SIZE_MB=16\n",
            "NV_NVPROF_VERSION=11.8.87-1\n",
            "PATH=/opt/bin:/usr/local/nvidia/bin:/usr/local/cuda/bin:/usr/local/sbin:/usr/local/bin:/usr/sbin:/usr/bin:/sbin:/bin:/tools/node/bin:/tools/google-cloud-sdk/bin\n",
            "NV_LIBNCCL_PACKAGE_NAME=libnccl2\n",
            "COLAB_DEBUG_ADAPTER_MUX_PATH=/usr/local/bin/dap_multiplexer\n",
            "NV_LIBNCCL_PACKAGE_VERSION=2.16.2-1\n",
            "PYTHONWARNINGS=ignore:::pip._internal.cli.base_command\n",
            "WANDB_SERVICE=2-147-tcp-localhost-60857\n",
            "DEBIAN_FRONTEND=noninteractive\n",
            "COLAB_BACKEND_VERSION=next\n",
            "OLDPWD=/\n",
            "_=/usr/bin/env\n"
          ]
        }
      ],
      "source": [
        "# Check env (CUDA & CuDNN)\n",
        "\n",
        "!env"
      ]
    },
    {
      "cell_type": "code",
      "execution_count": null,
      "metadata": {
        "colab": {
          "base_uri": "https://localhost:8080/"
        },
        "id": "0aUwx0nSoPi-",
        "outputId": "19328fe4-093d-4958-8e29-f504c773b0e1"
      },
      "outputs": [
        {
          "output_type": "stream",
          "name": "stdout",
          "text": [
            "Thu Mar 30 11:26:26 2023       \n",
            "+-----------------------------------------------------------------------------+\n",
            "| NVIDIA-SMI 525.85.12    Driver Version: 525.85.12    CUDA Version: 12.0     |\n",
            "|-------------------------------+----------------------+----------------------+\n",
            "| GPU  Name        Persistence-M| Bus-Id        Disp.A | Volatile Uncorr. ECC |\n",
            "| Fan  Temp  Perf  Pwr:Usage/Cap|         Memory-Usage | GPU-Util  Compute M. |\n",
            "|                               |                      |               MIG M. |\n",
            "|===============================+======================+======================|\n",
            "|   0  Tesla T4            Off  | 00000000:00:04.0 Off |                    0 |\n",
            "| N/A   40C    P8     9W /  70W |      0MiB / 15360MiB |      0%      Default |\n",
            "|                               |                      |                  N/A |\n",
            "+-------------------------------+----------------------+----------------------+\n",
            "                                                                               \n",
            "+-----------------------------------------------------------------------------+\n",
            "| Processes:                                                                  |\n",
            "|  GPU   GI   CI        PID   Type   Process name                  GPU Memory |\n",
            "|        ID   ID                                                   Usage      |\n",
            "|=============================================================================|\n",
            "|  No running processes found                                                 |\n",
            "+-----------------------------------------------------------------------------+\n"
          ]
        }
      ],
      "source": [
        "# Check GPU\n",
        "\n",
        "!nvidia-smi"
      ]
    },
    {
      "cell_type": "code",
      "execution_count": null,
      "metadata": {
        "colab": {
          "base_uri": "https://localhost:8080/"
        },
        "id": "3ZwPEDIsYv4s",
        "outputId": "7d35fdaf-5264-48f0-96e0-b1caf2f621d9"
      },
      "outputs": [
        {
          "output_type": "stream",
          "name": "stdout",
          "text": [
            "nvcc: NVIDIA (R) Cuda compiler driver\n",
            "Copyright (c) 2005-2022 NVIDIA Corporation\n",
            "Built on Wed_Sep_21_10:33:58_PDT_2022\n",
            "Cuda compilation tools, release 11.8, V11.8.89\n",
            "Build cuda_11.8.r11.8/compiler.31833905_0\n"
          ]
        }
      ],
      "source": [
        "# Check CUDA\n",
        "\n",
        "!nvcc --version"
      ]
    },
    {
      "cell_type": "code",
      "execution_count": null,
      "metadata": {
        "colab": {
          "base_uri": "https://localhost:8080/"
        },
        "id": "o-tIogVcOVoC",
        "outputId": "ee268318-202c-4c5b-f6eb-cb74e1c009c7"
      },
      "outputs": [
        {
          "output_type": "stream",
          "name": "stdout",
          "text": [
            "11.2\n",
            "8\n"
          ]
        }
      ],
      "source": [
        "# Check suggested tensorflow, CUDA, and CuDNN versions\n",
        "\n",
        "import tensorflow as tf\n",
        "build = tf.sysconfig.get_build_info()\n",
        "print(build['cuda_version'])\n",
        "print(build['cudnn_version'])"
      ]
    },
    {
      "cell_type": "markdown",
      "metadata": {
        "id": "aPPLljJiou-j"
      },
      "source": [
        "### Check GPU"
      ]
    },
    {
      "cell_type": "code",
      "execution_count": null,
      "metadata": {
        "colab": {
          "base_uri": "https://localhost:8080/"
        },
        "id": "3QBghl0xv4kL",
        "outputId": "ae2f7ada-7b64-4df4-dbbc-0e2b23aa0986"
      },
      "outputs": [
        {
          "output_type": "execute_result",
          "data": {
            "text/plain": [
              "'/device:GPU:0'"
            ],
            "application/vnd.google.colaboratory.intrinsic+json": {
              "type": "string"
            }
          },
          "metadata": {},
          "execution_count": 15
        }
      ],
      "source": [
        "import tensorflow as tf\n",
        "tf.test.gpu_device_name()"
      ]
    },
    {
      "cell_type": "code",
      "execution_count": null,
      "metadata": {
        "colab": {
          "base_uri": "https://localhost:8080/"
        },
        "id": "Fj12sdepv0Mq",
        "outputId": "f22efd8a-0a49-4172-a7ff-14e3a087575a"
      },
      "outputs": [
        {
          "output_type": "execute_result",
          "data": {
            "text/plain": [
              "[name: \"/device:CPU:0\"\n",
              " device_type: \"CPU\"\n",
              " memory_limit: 268435456\n",
              " locality {\n",
              " }\n",
              " incarnation: 12133790285419467640\n",
              " xla_global_id: -1,\n",
              " name: \"/device:GPU:0\"\n",
              " device_type: \"GPU\"\n",
              " memory_limit: 14439743488\n",
              " locality {\n",
              "   bus_id: 1\n",
              "   links {\n",
              "   }\n",
              " }\n",
              " incarnation: 5764204851096364288\n",
              " physical_device_desc: \"device: 0, name: Tesla T4, pci bus id: 0000:00:04.0, compute capability: 7.5\"\n",
              " xla_global_id: 416903419]"
            ]
          },
          "metadata": {},
          "execution_count": 16
        }
      ],
      "source": [
        "from tensorflow.python.client import device_lib\n",
        "device_lib.list_local_devices()"
      ]
    },
    {
      "cell_type": "markdown",
      "metadata": {
        "id": "kHhQ-DNnpwWk"
      },
      "source": [
        "# Run Script"
      ]
    },
    {
      "cell_type": "code",
      "execution_count": null,
      "metadata": {
        "id": "M95z99QPzarv"
      },
      "outputs": [],
      "source": [
        "# Colab\n",
        "\n",
        "!python \"/content/drive/MyDrive/Colab Notebooks/dalle-mini/tools/train/train_edited.py\" --dataset_repo_or_path \"/content/encoded_data_512\" --output_dir \"/content/drive/MyDrive/Colab Notebooks/dalle-mini/tools/train/who_are_you\" --tokenizer_name boris/dalle-mini-tokenizer --config_name \"/content/drive/MyDrive/Colab Notebooks/dalle-mini/tools/train/config/edited\" --do_train --per_device_train_batch_size 1 --num_train_epochs 1 --mp_devices 1\n",
        "\n",
        "# Gradient\n",
        "\n",
        "# !python \"/notebooks/train/train.py\" --dataset_repo_or_path \"/notebooks/dataset/encoded_data_512\" --output_dir \"/notebooks/who_are_you\" --config_name \"KAEYA\" --do_train --per_device_train_batch_size 1 --num_train_epochs 1 --mp_devices 1\n",
        "\n",
        "# Kaggle\n",
        "\n",
        "# !python \"/kaggle/working/train/train_edited.py\" --dataset_repo_or_path \"/kaggle/input/celeba-hq-encoded-512/encoded_data_512\" --output_dir \"/kaggle/working/train/who_are_you\" --tokenizer_name boris/dalle-mini-tokenizer --config_name \"/kaggle/working/train/config/edited\" --do_train --per_device_train_batch_size 1 --num_train_epochs 1 --mp_devices 1 "
      ]
    }
  ],
  "metadata": {
    "accelerator": "GPU",
    "colab": {
      "collapsed_sections": [
        "VeZAHEG4psjD",
        "hwARWPtWcHbd",
        "aPPLljJiou-j",
        "kHhQ-DNnpwWk"
      ],
      "provenance": []
    },
    "gpuClass": "standard",
    "kernelspec": {
      "display_name": "Python 3",
      "name": "python3"
    },
    "language_info": {
      "name": "python"
    }
  },
  "nbformat": 4,
  "nbformat_minor": 0
}