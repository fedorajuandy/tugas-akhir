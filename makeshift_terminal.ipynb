{
  "cells": [
    {
      "cell_type": "code",
      "execution_count": null,
      "metadata": {},
      "outputs": [],
      "source": [
        "\"\"\" Makeshift terminal for running script when there is no (free) terminal available \"\"\"\n",
        "\n",
        "# 0 = encode  dataset, 1 = train model, 2 = inference image\n",
        "usage = 2"
      ]
    },
    {
      "attachments": {},
      "cell_type": "markdown",
      "metadata": {
        "id": "hwARWPtWcHbd"
      },
      "source": [
        "# Check Specification"
      ]
    },
    {
      "cell_type": "code",
      "execution_count": null,
      "metadata": {
        "colab": {
          "base_uri": "https://localhost:8080/"
        },
        "id": "qLbTyB4Sas7C",
        "outputId": "cf87aa06-bf97-4fac-8663-fb35c14149ba"
      },
      "outputs": [],
      "source": [
        "# Check OS\n",
        "\n",
        "!cat /etc/os-release"
      ]
    },
    {
      "cell_type": "code",
      "execution_count": null,
      "metadata": {
        "colab": {
          "base_uri": "https://localhost:8080/"
        },
        "id": "0u0tyIvCbcKh",
        "outputId": "42f0ca3d-f2f7-4743-c32b-35cf378858ff"
      },
      "outputs": [],
      "source": [
        "# Check machine\n",
        "\n",
        "!uname -m"
      ]
    },
    {
      "cell_type": "code",
      "execution_count": null,
      "metadata": {
        "colab": {
          "base_uri": "https://localhost:8080/"
        },
        "id": "jkmw6skuydxi",
        "outputId": "25fcd567-874b-4fea-8caa-2ac434c0b7b6"
      },
      "outputs": [],
      "source": [
        "# Check processor\n",
        "\n",
        "!cat /proc/cpuinfo"
      ]
    },
    {
      "cell_type": "code",
      "execution_count": null,
      "metadata": {
        "colab": {
          "base_uri": "https://localhost:8080/"
        },
        "id": "tQsxV_RxyeGK",
        "outputId": "117bf903-3102-445a-bb34-4920f319d08a"
      },
      "outputs": [],
      "source": [
        "# Check memory\n",
        "\n",
        "!cat /proc/meminfo"
      ]
    },
    {
      "cell_type": "code",
      "execution_count": null,
      "metadata": {
        "colab": {
          "base_uri": "https://localhost:8080/"
        },
        "id": "s007OJATs-xE",
        "outputId": "e83e853c-3513-447c-c47f-8bf77c9fd1aa"
      },
      "outputs": [],
      "source": [
        "# Check env\n",
        "\n",
        "!env"
      ]
    },
    {
      "cell_type": "code",
      "execution_count": null,
      "metadata": {
        "colab": {
          "base_uri": "https://localhost:8080/"
        },
        "id": "0aUwx0nSoPi-",
        "outputId": "85d58bf8-3ea2-4f80-e002-db33e585c429"
      },
      "outputs": [],
      "source": [
        "# Check GPU\n",
        "\n",
        "!nvidia-smi"
      ]
    },
    {
      "cell_type": "code",
      "execution_count": null,
      "metadata": {
        "colab": {
          "base_uri": "https://localhost:8080/"
        },
        "id": "3ZwPEDIsYv4s",
        "outputId": "0457cee1-a035-4860-ea3b-c9572eacf91a"
      },
      "outputs": [],
      "source": [
        "# Check CUDA\n",
        "\n",
        "!nvcc --version"
      ]
    },
    {
      "cell_type": "code",
      "execution_count": null,
      "metadata": {
        "colab": {
          "base_uri": "https://localhost:8080/"
        },
        "id": "Fj12sdepv0Mq",
        "outputId": "476218ea-f9c9-4d97-8be8-190121c362cd"
      },
      "outputs": [],
      "source": [
        "# Check GPU type\n",
        "\n",
        "!pip install tensorflow\n",
        "\n",
        "from tensorflow.python.client import device_lib\n",
        "device_lib.list_local_devices()"
      ]
    },
    {
      "attachments": {},
      "cell_type": "markdown",
      "metadata": {
        "id": "cHBC0sOFOVnx"
      },
      "source": [
        "# Setup Workplace"
      ]
    },
    {
      "attachments": {},
      "cell_type": "markdown",
      "metadata": {
        "id": "J_bHRet4OVn7"
      },
      "source": [
        "## Install libraries"
      ]
    },
    {
      "cell_type": "code",
      "execution_count": null,
      "metadata": {
        "colab": {
          "base_uri": "https://localhost:8080/"
        },
        "id": "aUXj8bAQOVn8",
        "outputId": "b862701d-0e9a-488a-c5d4-b13e07f42913"
      },
      "outputs": [],
      "source": [
        "# Main libraries\n",
        "\n",
        "match usage:\n",
        "    case 0:\n",
        "        !pip install --upgrade jax jaxlib\n",
        "        !pip install webdataset\n",
        "        !pip install git+https://github.com/patil-suraj/vqgan-jax.git\n",
        "    case 1:\n",
        "        !pip install datasets\n",
        "        !pip install datasets[streaming]\n",
        "        !pip install --upgrade jax jaxlib\n",
        "        !pip install flax\n",
        "        !pip install transformers\n",
        "        !pip install wandb\n",
        "        !pip install einops\n",
        "        !pip install emoji\n",
        "        !pip install ftfy\n",
        "        !pip install unidecode\n",
        "        !pip install braceexpand\n",
        "        !pip install tensorflow\n",
        "        !pip install dalle-mini\n",
        "        !pip install optax-shampoo\n",
        "    case 2:\n",
        "        !pip install flax==0.6.3 chex==0.1.6 orbax==0.1.2 optax # to resolve orbax update\n",
        "        !pip install dalle-mini\n",
        "        !pip install git+https://github.com/patil-suraj/vqgan-jax.git\n",
        "        !pip install -U jax==0.3.25 -f https://storage.googleapis.com/jax-releases/jax_releases.html\n",
        "        !pip install -U jaxlib==0.3.25 -f https://storage.googleapis.com/jax-releases/jax_releases.html\n",
        "        !pip install gradio\n",
        "        !pip install tensorrt\n",
        "        !pip install wandb\n",
        "    case _:\n",
        "        print(\"What are you going to do? Please check the usage.\")\n",
        "\n",
        "# Jax and jaxlib according to each CUDA and CuDNN version\n",
        "\n",
        "import os\n",
        "\n",
        "match usage:\n",
        "    case 0 | 1:\n",
        "        if(os.path.exists(\"/content\")):\n",
        "            !pip install -U jax==0.4.9 -f https://storage.googleapis.com/jax-releases/jax_cuda_releases.html\n",
        "            !pip install -U jaxlib==0.4.9+cuda11.cudnn86 -f https://storage.googleapis.com/jax-releases/jax_cuda_releases.html\n",
        "\n",
        "        elif(os.path.exists(\"/notebooks\")):\n",
        "            !pip install -U jax==0.4.7 -f https://storage.googleapis.com/jax-releases/jax_cuda_releases.html\n",
        "            !pip install -U jaxlib==0.4.7+cuda11.cudnn82 -f https://storage.googleapis.com/jax-releases/jax_cuda_releases.html\n",
        "\n",
        "        elif(os.path.exists(\"/kaggle\")):\n",
        "            !pip install -U jax==0.4.7 -f https://storage.googleapis.com/jax-releases/jax_cuda_releases.html\n",
        "            !pip install -U jaxlib==0.4.7+cuda11.cudnn82 -f https://storage.googleapis.com/jax-releases/jax_cuda_releases.html\n",
        "\n",
        "    case 2:\n",
        "        !pip install -U jax==0.3.25 -f https://storage.googleapis.com/jax-releases/jax_cuda_releases.html\n",
        "        !pip install -U jaxlib==0.3.25+cuda11.cudnn82 -f https://storage.googleapis.com/jax-releases/jax_cuda_releases.html\n",
        "\n",
        "    case _:\n",
        "        print(\"What are you going to do? Please check the usage.\")"
      ]
    },
    {
      "attachments": {},
      "cell_type": "markdown",
      "metadata": {
        "id": "RZrN6XImc4DY"
      },
      "source": [
        "### Check versions"
      ]
    },
    {
      "cell_type": "code",
      "execution_count": null,
      "metadata": {
        "colab": {
          "base_uri": "https://localhost:8080/"
        },
        "id": "3QzZ4oz6nN8g",
        "outputId": "a2754a5f-5abe-45a8-dab3-f711e1732ba8"
      },
      "outputs": [],
      "source": [
        "# Check python and pip version\n",
        "\n",
        "!python --version\n",
        "!pip --version"
      ]
    },
    {
      "cell_type": "code",
      "execution_count": null,
      "metadata": {
        "colab": {
          "base_uri": "https://localhost:8080/"
        },
        "id": "hlYu8L0Bc9EP",
        "outputId": "62422c9c-b247-4107-c50d-2bae2964690e"
      },
      "outputs": [],
      "source": [
        "# Check all libraries installed\n",
        "\n",
        "!pip list"
      ]
    },
    {
      "attachments": {},
      "cell_type": "markdown",
      "metadata": {},
      "source": [
        "## Login W&B"
      ]
    },
    {
      "cell_type": "code",
      "execution_count": null,
      "metadata": {},
      "outputs": [],
      "source": [
        "import wandb\n",
        "\n",
        "if(usage == 1 or usage == 2):\n",
        "    if(os.path.exists(\"/content\")):\n",
        "        from google.colab import drive\n",
        "        drive.mount('/content/drive')\n",
        "\n",
        "        with open(\"/content/drive/MyDrive/Colab Notebooks/wandb_auth_key.txt\") as wak:\n",
        "            wandb_auth_key = wak.readline()\n",
        "\n",
        "    elif(os.path.exists(\"/kaggle\")):\n",
        "        from kaggle_secrets import UserSecretsClient\n",
        "        user_secrets = UserSecretsClient()\n",
        "        wandb_auth_key = user_secrets.get_secret(\"wandb\")\n",
        "\n",
        "    else:\n",
        "        # Gradient's secret only limited to premium private clusters\n",
        "        wandb_auth_key = \"Enter_your_WANDB_authentication_key\"\n",
        "\n",
        "    wandb.login(key=wandb_auth_key)"
      ]
    },
    {
      "attachments": {},
      "cell_type": "markdown",
      "metadata": {
        "id": "VeZAHEG4psjD"
      },
      "source": [
        "## Get additional files"
      ]
    },
    {
      "cell_type": "code",
      "execution_count": null,
      "metadata": {},
      "outputs": [],
      "source": [
        "# If using Colab, get dataset from Drive for training\n",
        "\n",
        "if usage == 1\n",
        "    if os.path.exists(\"/content\"):\n",
        "        from google.colab import drive\n",
        "        drive.mount('/content/drive')\n",
        "\n",
        "        !mkdir \"/content/encoded_data\"\n",
        "        !unzip \"/content/tugas-akhir/train/datasets/encoded_256_bs60_sf60.zip\" -d \"/content/encoded_data\"\n",
        "\n",
        "    elif os.path.exists(\"/notebooks\"):\n",
        "        !mkdir \"/notebooks/github/train/datasets/encoded_data\"\n",
        "        !unzip \"/notebooks/github/train/datasets/encoded_256_bs60_sf60.zip\" -d \"/notebooks/encoded_data\""
      ]
    },
    {
      "cell_type": "code",
      "execution_count": null,
      "metadata": {
        "colab": {
          "base_uri": "https://localhost:8080/"
        },
        "id": "Oyi9I1qwzEn5",
        "outputId": "1231deed-c646-48a5-a4a0-98e4120b72f0"
      },
      "outputs": [],
      "source": [
        "# Get files from GitHub; only for Kaggle and Colab as Gradient use separated terminal\n",
        "import sys\n",
        "\n",
        "username = \"fedorajuandy\"\n",
        "reponame = \"tugas-akhir\"\n",
        "\n",
        "if(os.path.exists(\"/content\")):\n",
        "    from google.colab import drive\n",
        "    drive.mount('/content/drive')\n",
        "\n",
        "    !rm -r /content/tugas-akhir\n",
        "\n",
        "    url = f\"https://github.com/fedorajuandy/tugas-akhir.git\"\n",
        "\n",
        "    get_ipython().system(f\"git clone {url}\")\n",
        "\n",
        "elif(os.path.exists(\"/kaggle\")):\n",
        "    !rm -r /kaggle/working/tugas-akhir\n",
        "\n",
        "    url = f\"https://github.com/fedorajuandy/tugas-akhir.git\"\\\n",
        "\n",
        "    get_ipython().system(f\"git clone {url}\")\n",
        "    sys.path.append(\"tugas-akhir\")\n",
        "\n",
        "else:\n",
        "    print(\"Where are you?\")"
      ]
    },
    {
      "attachments": {},
      "cell_type": "markdown",
      "metadata": {
        "id": "kHhQ-DNnpwWk"
      },
      "source": [
        "# Run Script"
      ]
    },
    {
      "cell_type": "code",
      "execution_count": null,
      "metadata": {
        "colab": {
          "base_uri": "https://localhost:8080/"
        },
        "id": "M95z99QPzarv",
        "outputId": "94a582d5-a8b0-4174-ba43-22ed94ea0531"
      },
      "outputs": [],
      "source": [
        "match usage:\n",
        "    case 0:\n",
        "        if(os.path.exists(\"/content\")):\n",
        "            args = \"/content/tugas-akhir/encode/encode_dataset.py\"\n",
        "\n",
        "        elif(os.path.exists(\"/notebooks\")):\n",
        "            args = \"/notebooks/github/encode/encode_dataset.py\"\n",
        "\n",
        "        elif(os.path.exists(\"/kaggle\")):\n",
        "            args = \"/kaggle/working/tugas-akhir/encode/encode_dataset.py\"\n",
        "\n",
        "        else:\n",
        "            print(\"Where are you?\")\n",
        "\n",
        "    case 1:\n",
        "        tokenizer_name = \"boris/dalle-mini-tokenizer\"\n",
        "        per_device_train_batch_size = 60\n",
        "        num_train_epochs = 6\n",
        "        save_steps = 3000\n",
        "        mp_devices = 1\n",
        "        assert_tpu_available = False\n",
        "        dtype = \"float32\"\n",
        "\n",
        "        if(os.path.exists(\"/content\")):\n",
        "            script = \"/content/tugas-akhir/train/train.py\"\n",
        "            dataset_repo_or_path = \"/content/encoded_data\"\n",
        "            !mkdir \"/output\"\n",
        "            output_dir = \"/output\"\n",
        "            config_name = \"/content/tugas-akhir/train/config\"\n",
        "\n",
        "        elif(os.path.exists(\"/notebooks\")):\n",
        "            script = \"/notebooks/github/train/train.py\"\n",
        "            dataset_repo_or_path = \"/notebooks/github/train/datasets/encoded_data\"\n",
        "            !mkdir \"/output\"\n",
        "            output_dir = \"/output\"\n",
        "            config_name = \"/notebooks/github/train/config\"\n",
        "\n",
        "        elif(os.path.exists(\"/kaggle\")):\n",
        "            script = \"/kaggle/working/tugas-akhir/train/train.py\"\n",
        "            dataset_repo_or_path = \"/kaggle/input/celeba-hq-encoded-256-bs60-sf60\"\n",
        "            !mkdir \"/kaggle/working/tugas-akhir/train/output\"\n",
        "            output_dir = \"/kaggle/working/tugas-akhir/train/output\"\n",
        "            config_name = \"/kaggle/working/tugas-akhir/train/config\"\n",
        "\n",
        "        else:\n",
        "            print(\"Where are you?\")\n",
        "\n",
        "        args = f\"{script} --dataset_repo_or_path {dataset_repo_or_path} --output_dir {output_dir} --config_name {config_name} --tokenizer_name {tokenizer_name} --per_device_train_batch_size {per_device_train_batch_size} --num_train_epochs {num_train_epochs} --mp_devices {mp_devices} --dtype {dtype} --assert_tpu_available {assert_tpu_available} --save_steps {save_steps}\"\n",
        "\n",
        "    case 2:\n",
        "        if(os.path.exists(\"/content\")):\n",
        "            args = \"/content/tugas-akhir/app/app.py\"\n",
        "\n",
        "        elif(os.path.exists(\"/notebooks\")):\n",
        "            args = \"/notebooks/github/app/app.py\"\n",
        "\n",
        "        elif(os.path.exists(\"/kaggle\")):\n",
        "            args = \"/kaggle/working/tugas-akhir/app/app.py\"\n",
        "\n",
        "        else:\n",
        "            print(\"Where are you?\")\n",
        "\n",
        "    case _:\n",
        "        print(\"What are you going to do? Please check the usage.\")\n",
        "\n",
        "get_ipython().system(f\"python {args}\")"
      ]
    },
    {
      "cell_type": "code",
      "execution_count": null,
      "metadata": {},
      "outputs": [],
      "source": []
    }
  ],
  "metadata": {
    "accelerator": "GPU",
    "colab": {
      "collapsed_sections": [
        "VeZAHEG4psjD",
        "hwARWPtWcHbd",
        "aPPLljJiou-j",
        "kHhQ-DNnpwWk"
      ],
      "provenance": []
    },
    "gpuClass": "standard",
    "kernelspec": {
      "display_name": "Python 3",
      "name": "python3"
    },
    "language_info": {
      "name": "python",
      "version": "3.10.4"
    }
  },
  "nbformat": 4,
  "nbformat_minor": 0
}
