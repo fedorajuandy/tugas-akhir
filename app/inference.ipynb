{
 "cells": [
  {
   "attachments": {},
   "cell_type": "markdown",
   "metadata": {},
   "source": [
    "# Check Specification"
   ]
  },
  {
   "cell_type": "code",
   "execution_count": null,
   "metadata": {},
   "outputs": [],
   "source": [
    "# Check OS\n",
    "\n",
    "!cat /etc/os-release"
   ]
  },
  {
   "cell_type": "code",
   "execution_count": null,
   "metadata": {},
   "outputs": [],
   "source": [
    "# Check machine\n",
    "\n",
    "!uname -m"
   ]
  },
  {
   "cell_type": "code",
   "execution_count": null,
   "metadata": {},
   "outputs": [],
   "source": [
    "# Check processor\n",
    "\n",
    "!cat /proc/cpuinfo"
   ]
  },
  {
   "cell_type": "code",
   "execution_count": null,
   "metadata": {},
   "outputs": [],
   "source": [
    "# Check memory\n",
    "\n",
    "!cat /proc/meminfo"
   ]
  },
  {
   "cell_type": "code",
   "execution_count": null,
   "metadata": {},
   "outputs": [],
   "source": [
    "# Check env (CUDA & CuDNN)\n",
    "\n",
    "!env"
   ]
  },
  {
   "cell_type": "code",
   "execution_count": null,
   "metadata": {},
   "outputs": [],
   "source": [
    "# Check GPU\n",
    "\n",
    "!nvidia-smi"
   ]
  },
  {
   "cell_type": "code",
   "execution_count": null,
   "metadata": {},
   "outputs": [],
   "source": [
    "# Check CUDA\n",
    "\n",
    "!nvcc --version"
   ]
  },
  {
   "cell_type": "code",
   "execution_count": null,
   "metadata": {},
   "outputs": [],
   "source": [
    "# GPU type\n",
    "\n",
    "!pip install tensorflow\n",
    "from tensorflow.python.client import device_lib\n",
    "device_lib.list_local_devices()"
   ]
  },
  {
   "attachments": {},
   "cell_type": "markdown",
   "metadata": {},
   "source": [
    "# Libraries and Files"
   ]
  },
  {
   "cell_type": "code",
   "execution_count": null,
   "metadata": {},
   "outputs": [],
   "source": [
    "!pip install -q dalle-mini\n",
    "!pip install -q git+https://github.com/patil-suraj/vqgan-jax.git\n",
    "!pip install orbax-checkpoint jax==0.3.25\n",
    "!pip install -U jax==0.3.25 -f https://storage.googleapis.com/jax-releases/jax_cuda_releases.html\n",
    "!pip install -U jaxlib==0.3.25+cuda11.cudnn82 -f https://storage.googleapis.com/jax-releases/jax_cuda_releases.html"
   ]
  },
  {
   "cell_type": "code",
   "execution_count": null,
   "metadata": {},
   "outputs": [],
   "source": [
    "!pip --version"
   ]
  },
  {
   "cell_type": "code",
   "execution_count": null,
   "metadata": {},
   "outputs": [],
   "source": [
    "# All libraries installed\n",
    "\n",
    "!pip list"
   ]
  },
  {
   "cell_type": "code",
   "execution_count": null,
   "metadata": {},
   "outputs": [],
   "source": [
    "# Configured to run repeatedly\n",
    "import os\n",
    "import sys\n",
    "\n",
    "username = \"fedorajuandy\"\n",
    "reponame = \"tugas-akhir\"\n",
    "\n",
    "if(os.path.exists(\"/content\")):\n",
    "    if(os.path.exists):\n",
    "        from google.colab import drive\n",
    "        drive.mount('/content/drive')\n",
    "\n",
    "        !rm -r /content/tugas-akhir\n",
    "\n",
    "        with open('/content/drive/MyDrive/Colab Notebooks/github_personal_access_token.txt') as gpat:\n",
    "            github_personal_access_token = gpat.readline()\n",
    "\n",
    "        url = f\"https://{github_personal_access_token}@github.com/{username}/{reponame}.git\"\n",
    "        get_ipython().system(f\"git clone {url}\")\n",
    "\n",
    "elif(os.path.exists(\"/kaggle\")):\n",
    "    from kaggle_secrets import UserSecretsClient\n",
    "\n",
    "    !rm -r /kaggle/working/tugas-akhir\n",
    "\n",
    "    user_secrets = UserSecretsClient()\n",
    "    github_personal_access_token = user_secrets.get_secret(\"github\")\n",
    "    url = f\"https://{github_personal_access_token}@github.com/{username}/{reponame}.git\"\\\n",
    "\n",
    "    get_ipython().system(f\"git clone {url}\")\n",
    "    sys.path.append(\"tugas-akhir\")\n",
    "\n",
    "else:\n",
    "    print(\"Where are you?\")"
   ]
  },
  {
   "attachments": {},
   "cell_type": "markdown",
   "metadata": {},
   "source": [
    "# Run Script"
   ]
  },
  {
   "cell_type": "code",
   "execution_count": null,
   "metadata": {},
   "outputs": [],
   "source": [
    "import wandb\n",
    "\n",
    "if(os.path.exists(\"/content\")):\n",
    "    from google.colab import drive\n",
    "    drive.mount(\"/content/drive\")\n",
    "\n",
    "    os.environ[\"WANDB_NOTEBOOK_NAME\"] = \"/content/tugas-akhir/app/inference.ipynb\"\n",
    "    with open(\"/content/drive/MyDrive/Colab Notebooks/wandb_auth_key.txt\") as wak:\n",
    "        wandb_auth_key = wak.readline()\n",
    "\n",
    "elif(os.path.exists(\"/kaggle\")):\n",
    "    from kaggle_secrets import UserSecretsClient\n",
    "    os.environ[\"WANDB_NOTEBOOK_NAME\"] = \"/kaggle/working/tugas-akhir/app/inference_pipelineain.ipynb\"\n",
    "    wandb_auth_key = user_secrets.get_secret(\"wandb\")\n",
    "\n",
    "else:\n",
    "    wandb_auth_key = \"743ef48ba9077fb2d47e1e87e70b9478e9e07393\"\n",
    "\n",
    "wandb.login(key=wandb_auth_key)"
   ]
  },
  {
   "cell_type": "code",
   "execution_count": null,
   "metadata": {},
   "outputs": [],
   "source": [
    "if(os.path.exists(\"/content\")):\n",
    "    script = \"/content/tugas-akhir/app/app.py\"\n",
    "\n",
    "elif(os.path.exists(\"/notebooks\")):\n",
    "    script = \"/notebooks/github/app/app.py\"\n",
    "\n",
    "elif(os.path.exists(\"/kaggle\")):\n",
    "    script = \"/kaggle/working/tugas-akhir/app/app.py\"\n",
    "\n",
    "elif(os.path.exists(\"\")):\n",
    "    script = \"/content/tugas-akhir/app/app.py\"\n",
    "\n",
    "else:\n",
    "    print(\"Where are you?\")\n",
    "\n",
    "get_ipython().system(f\"python {script}\")"
   ]
  }
 ],
 "metadata": {
  "language_info": {
   "name": "python"
  },
  "orig_nbformat": 4
 },
 "nbformat": 4,
 "nbformat_minor": 2
}
